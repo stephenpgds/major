{
  "cells": [
    {
      "cell_type": "code",
      "source": [
        "pip install phonenumbers"
      ],
      "metadata": {
        "colab": {
          "base_uri": "https://localhost:8080/"
        },
        "id": "O0EPD4rRwSA7",
        "outputId": "65288b7a-ba4a-47cd-dbc0-1943d3a3d3c9"
      },
      "execution_count": null,
      "outputs": [
        {
          "output_type": "stream",
          "name": "stdout",
          "text": [
            "Looking in indexes: https://pypi.org/simple, https://us-python.pkg.dev/colab-wheels/public/simple/\n",
            "Collecting phonenumbers\n",
            "  Downloading phonenumbers-8.13.6-py2.py3-none-any.whl (2.6 MB)\n",
            "\u001b[2K     \u001b[90m━━━━━━━━━━━━━━━━━━━━━━━━━━━━━━━━━━━━━━━━\u001b[0m \u001b[32m2.6/2.6 MB\u001b[0m \u001b[31m60.4 MB/s\u001b[0m eta \u001b[36m0:00:00\u001b[0m\n",
            "\u001b[?25hInstalling collected packages: phonenumbers\n",
            "Successfully installed phonenumbers-8.13.6\n"
          ]
        }
      ]
    },
    {
      "cell_type": "code",
      "execution_count": null,
      "metadata": {
        "id": "0rQDlDi9TA0h"
      },
      "outputs": [],
      "source": [
        "import phonenumbers\n",
        "from geopy import geocoders\n",
        "from geopy.exc import GeocoderTimedOut\n",
        "from phonenumbers import timezone\n",
        "from phonenumbers import geocoder\n",
        "from phonenumbers import carrier"
      ]
    },
    {
      "cell_type": "code",
      "execution_count": null,
      "metadata": {
        "id": "8fPKL8UATQix",
        "colab": {
          "base_uri": "https://localhost:8080/"
        },
        "outputId": "eef703b7-62b6-42f4-8eb4-733b5ecf8712"
      },
      "outputs": [
        {
          "name": "stdout",
          "output_type": "stream",
          "text": [
            "Enter the phone number with country code : +91 9398669750\n"
          ]
        }
      ],
      "source": [
        "number = input(\"Enter the phone number with country code : \")\n"
      ]
    },
    {
      "cell_type": "code",
      "execution_count": null,
      "metadata": {
        "id": "ZtwLykFVTlYG"
      },
      "outputs": [],
      "source": []
    },
    {
      "cell_type": "code",
      "execution_count": null,
      "metadata": {
        "id": "hjhUt1hDTY5o"
      },
      "outputs": [],
      "source": [
        "# Parsing String to the Phone number\n",
        "phoneNumber = phonenumbers.parse(number) "
      ]
    },
    {
      "cell_type": "code",
      "execution_count": null,
      "metadata": {
        "id": "W2ak7WYdTcMH",
        "colab": {
          "base_uri": "https://localhost:8080/"
        },
        "outputId": "c489b62c-1183-4347-e16c-12a354b1014b"
      },
      "outputs": [
        {
          "output_type": "stream",
          "name": "stdout",
          "text": [
            "location : India\n"
          ]
        }
      ],
      "source": [
        "# printing the geolocation of the given number using the geocoder module\n",
        "geolocation = geocoder.description_for_number(phoneNumber,\"en\")\n",
        "print(\"location : \"+geolocation)"
      ]
    },
    {
      "cell_type": "code",
      "execution_count": null,
      "metadata": {
        "id": "QyPk3OJdTmkj",
        "colab": {
          "base_uri": "https://localhost:8080/"
        },
        "outputId": "73a8b705-82bb-4bfe-d43f-3bec9efb0c7d"
      },
      "outputs": [
        {
          "output_type": "stream",
          "name": "stdout",
          "text": [
            "Enter the phone number with country code : + 91 9398669750\n",
            "timezone : ('Asia/Calcutta',)\n",
            "location : India\n",
            "service provider : Reliance Jio\n"
          ]
        }
      ],
      "source": [
        "import phonenumbers\n",
        "\n",
        "from phonenumbers import timezone\n",
        "from phonenumbers import geocoder\n",
        "from phonenumbers import carrier\n",
        " \n",
        "number = input(\"Enter the phone number with country code : \")\n",
        " \n",
        "# Parsing String to the Phone number\n",
        "phoneNumber = phonenumbers.parse(number)\n",
        " \n",
        "# printing the timezone using the timezone module\n",
        "timeZone = timezone.time_zones_for_number(phoneNumber)\n",
        "print(\"timezone : \"+str(timeZone))\n",
        " \n",
        "# printing the geolocation of the given number using the geocoder module\n",
        "geolocation = geocoder.description_for_number(phoneNumber,\"en\")\n",
        "print(\"location : \"+geolocation)\n",
        " \n",
        "# printing the service provider name using the carrier module\n",
        "service = carrier.name_for_number(phoneNumber,\"en\")\n",
        "print(\"service provider : \"+service)"
      ]
    },
    {
      "cell_type": "markdown",
      "metadata": {
        "id": "ugqy2PKZcIV_"
      },
      "source": [
        "geocoding"
      ]
    },
    {
      "cell_type": "code",
      "execution_count": null,
      "metadata": {
        "id": "NaDk_pXtYXc2"
      },
      "outputs": [],
      "source": [
        "pip install geocoder"
      ]
    },
    {
      "cell_type": "code",
      "execution_count": null,
      "metadata": {
        "id": "-QTpNAgYfDus",
        "colab": {
          "base_uri": "https://localhost:8080/"
        },
        "outputId": "2f72fd35-2c94-44fb-f3de-a7589c7b28eb"
      },
      "outputs": [
        {
          "output_type": "stream",
          "name": "stdout",
          "text": [
            "chennai\n",
            "hyderbad\n",
            "13.0836939\n",
            "80.270186\n",
            "17.3715198\n",
            "78.5114269\n",
            "510.67550844732364 km\n"
          ]
        }
      ],
      "source": [
        "from geopy.geocoders import Nominatim\n",
        "from geopy import distance\n",
        "\n",
        "location1=input()\n",
        "location2=input()\n",
        "geocoder=Nominatim(user_agent=\"i know python\")\n",
        "coordinates1=geocoder.geocode(location1)\n",
        "coordinates2=geocoder.geocode(location2)\n",
        "print(coordinates1.latitude)\n",
        "print(coordinates1.longitude)\n",
        "print(coordinates2.latitude)\n",
        "print(coordinates2.longitude)\n",
        "\n",
        "lat1,long1=coordinates1.latitude,coordinates1.longitude\n",
        "lat2,long2=coordinates2.latitude,coordinates2.longitude\n",
        "place1=(lat1,long1)\n",
        "place2=(lat2,long2)\n",
        "print(distance.distance(place1,place2))\n",
        "\n"
      ]
    },
    {
      "cell_type": "code",
      "execution_count": null,
      "metadata": {
        "id": "XQsKAwjPjZWD"
      },
      "outputs": [],
      "source": []
    },
    {
      "cell_type": "markdown",
      "metadata": {
        "id": "qaDC7u5IcDcJ"
      },
      "source": [
        "reverse geocoding\n"
      ]
    },
    {
      "cell_type": "code",
      "execution_count": null,
      "metadata": {
        "id": "Ex5dW9YDcPjG"
      },
      "outputs": [],
      "source": [
        "pip install reverse_geocoder"
      ]
    },
    {
      "cell_type": "code",
      "execution_count": null,
      "metadata": {
        "id": "qoLFfUiLn4Cn"
      },
      "outputs": [],
      "source": [
        "pip install pprint"
      ]
    },
    {
      "cell_type": "code",
      "execution_count": null,
      "metadata": {
        "id": "kDDSsGKwcBip",
        "colab": {
          "base_uri": "https://localhost:8080/"
        },
        "outputId": "1cac6887-21c5-4493-e68b-c03db28b9c00"
      },
      "outputs": [
        {
          "output_type": "stream",
          "name": "stdout",
          "text": [
            "[{'admin1': 'Tamil Nadu',\n",
            "  'admin2': 'Chennai',\n",
            "  'cc': 'IN',\n",
            "  'lat': '13.08784',\n",
            "  'lon': '80.27847',\n",
            "  'name': 'Chennai'}]\n"
          ]
        }
      ],
      "source": [
        "# Python3 program for reverse geocoding.\n",
        " \n",
        "# importing necessary libraries\n",
        "import reverse_geocoder as rg\n",
        "import pprint\n",
        " \n",
        "def reverseGeocode(coordinates):\n",
        "    result = rg.search(coordinates)\n",
        "     \n",
        "    # result is a list containing ordered dictionary.\n",
        "    pprint.pprint(result)\n",
        " \n",
        "# Driver function\n",
        "if __name__==\"__main__\":\n",
        "     \n",
        "    # Coordinates tuple.Can contain more than one pair.\n",
        "    coordinates =(lat1,long1)\n",
        "     \n",
        "    reverseGeocode(coordinates)"
      ]
    },
    {
      "cell_type": "markdown",
      "metadata": {
        "id": "4w5GrknTlJap"
      },
      "source": [
        "Map"
      ]
    },
    {
      "cell_type": "code",
      "execution_count": null,
      "metadata": {
        "id": "yTFXM6tclONC"
      },
      "outputs": [],
      "source": [
        "pip install folium"
      ]
    },
    {
      "cell_type": "code",
      "execution_count": null,
      "metadata": {
        "id": "CiG6FyIulVFk"
      },
      "outputs": [],
      "source": [
        "import folium"
      ]
    },
    {
      "cell_type": "code",
      "execution_count": null,
      "metadata": {
        "id": "L54x9gb7lZtH"
      },
      "outputs": [],
      "source": [
        "# map=folium.Map(location=[15.7183,78.5746],zoom_start=20)\n",
        "map=folium.Map(location=[lat1,long1],zoom_start=20)"
      ]
    },
    {
      "cell_type": "code",
      "execution_count": null,
      "metadata": {
        "id": "1SjHnQzRlhTW",
        "colab": {
          "base_uri": "https://localhost:8080/",
          "height": 856
        },
        "outputId": "eefb7b8b-2215-4ce8-d9a0-bf92985d9982"
      },
      "outputs": [
        {
          "output_type": "execute_result",
          "data": {
            "text/plain": [
              "<folium.folium.Map at 0x7f616dd85f10>"
            ],
            "text/html": [
              "<div style=\"width:100%;\"><div style=\"position:relative;width:100%;height:0;padding-bottom:60%;\"><span style=\"color:#565656\">Make this Notebook Trusted to load map: File -> Trust Notebook</span><iframe srcdoc=\"&lt;!DOCTYPE html&gt;\n",
              "&lt;html&gt;\n",
              "&lt;head&gt;\n",
              "    \n",
              "    &lt;meta http-equiv=&quot;content-type&quot; content=&quot;text/html; charset=UTF-8&quot; /&gt;\n",
              "    \n",
              "        &lt;script&gt;\n",
              "            L_NO_TOUCH = false;\n",
              "            L_DISABLE_3D = false;\n",
              "        &lt;/script&gt;\n",
              "    \n",
              "    &lt;style&gt;html, body {width: 100%;height: 100%;margin: 0;padding: 0;}&lt;/style&gt;\n",
              "    &lt;style&gt;#map {position:absolute;top:0;bottom:0;right:0;left:0;}&lt;/style&gt;\n",
              "    &lt;script src=&quot;https://cdn.jsdelivr.net/npm/leaflet@1.6.0/dist/leaflet.js&quot;&gt;&lt;/script&gt;\n",
              "    &lt;script src=&quot;https://code.jquery.com/jquery-1.12.4.min.js&quot;&gt;&lt;/script&gt;\n",
              "    &lt;script src=&quot;https://maxcdn.bootstrapcdn.com/bootstrap/3.2.0/js/bootstrap.min.js&quot;&gt;&lt;/script&gt;\n",
              "    &lt;script src=&quot;https://cdnjs.cloudflare.com/ajax/libs/Leaflet.awesome-markers/2.0.2/leaflet.awesome-markers.js&quot;&gt;&lt;/script&gt;\n",
              "    &lt;link rel=&quot;stylesheet&quot; href=&quot;https://cdn.jsdelivr.net/npm/leaflet@1.6.0/dist/leaflet.css&quot;/&gt;\n",
              "    &lt;link rel=&quot;stylesheet&quot; href=&quot;https://maxcdn.bootstrapcdn.com/bootstrap/3.2.0/css/bootstrap.min.css&quot;/&gt;\n",
              "    &lt;link rel=&quot;stylesheet&quot; href=&quot;https://maxcdn.bootstrapcdn.com/bootstrap/3.2.0/css/bootstrap-theme.min.css&quot;/&gt;\n",
              "    &lt;link rel=&quot;stylesheet&quot; href=&quot;https://maxcdn.bootstrapcdn.com/font-awesome/4.6.3/css/font-awesome.min.css&quot;/&gt;\n",
              "    &lt;link rel=&quot;stylesheet&quot; href=&quot;https://cdnjs.cloudflare.com/ajax/libs/Leaflet.awesome-markers/2.0.2/leaflet.awesome-markers.css&quot;/&gt;\n",
              "    &lt;link rel=&quot;stylesheet&quot; href=&quot;https://cdn.jsdelivr.net/gh/python-visualization/folium/folium/templates/leaflet.awesome.rotate.min.css&quot;/&gt;\n",
              "    \n",
              "            &lt;meta name=&quot;viewport&quot; content=&quot;width=device-width,\n",
              "                initial-scale=1.0, maximum-scale=1.0, user-scalable=no&quot; /&gt;\n",
              "            &lt;style&gt;\n",
              "                #map_31b3b907352034eed10f0a10cbae7ac8 {\n",
              "                    position: relative;\n",
              "                    width: 100.0%;\n",
              "                    height: 100.0%;\n",
              "                    left: 0.0%;\n",
              "                    top: 0.0%;\n",
              "                }\n",
              "            &lt;/style&gt;\n",
              "        \n",
              "&lt;/head&gt;\n",
              "&lt;body&gt;\n",
              "    \n",
              "    \n",
              "            &lt;div class=&quot;folium-map&quot; id=&quot;map_31b3b907352034eed10f0a10cbae7ac8&quot; &gt;&lt;/div&gt;\n",
              "        \n",
              "&lt;/body&gt;\n",
              "&lt;script&gt;\n",
              "    \n",
              "    \n",
              "            var map_31b3b907352034eed10f0a10cbae7ac8 = L.map(\n",
              "                &quot;map_31b3b907352034eed10f0a10cbae7ac8&quot;,\n",
              "                {\n",
              "                    center: [13.0836939, 80.270186],\n",
              "                    crs: L.CRS.EPSG3857,\n",
              "                    zoom: 20,\n",
              "                    zoomControl: true,\n",
              "                    preferCanvas: false,\n",
              "                }\n",
              "            );\n",
              "\n",
              "            \n",
              "\n",
              "        \n",
              "    \n",
              "            var tile_layer_7aa4b8059d1b9a78b56b1d7924ba105c = L.tileLayer(\n",
              "                &quot;https://{s}.tile.openstreetmap.org/{z}/{x}/{y}.png&quot;,\n",
              "                {&quot;attribution&quot;: &quot;Data by \\u0026copy; \\u003ca href=\\&quot;http://openstreetmap.org\\&quot;\\u003eOpenStreetMap\\u003c/a\\u003e, under \\u003ca href=\\&quot;http://www.openstreetmap.org/copyright\\&quot;\\u003eODbL\\u003c/a\\u003e.&quot;, &quot;detectRetina&quot;: false, &quot;maxNativeZoom&quot;: 18, &quot;maxZoom&quot;: 18, &quot;minZoom&quot;: 0, &quot;noWrap&quot;: false, &quot;opacity&quot;: 1, &quot;subdomains&quot;: &quot;abc&quot;, &quot;tms&quot;: false}\n",
              "            ).addTo(map_31b3b907352034eed10f0a10cbae7ac8);\n",
              "        \n",
              "    \n",
              "            var marker_49e10e79a8a01e23cdb5be5778e23a37 = L.marker(\n",
              "                [13.0836939, 80.270186],\n",
              "                {}\n",
              "            ).addTo(map_31b3b907352034eed10f0a10cbae7ac8);\n",
              "        \n",
              "    \n",
              "            var icon_db31188eed78f233ce614141959dbcdc = L.AwesomeMarkers.icon(\n",
              "                {&quot;extraClasses&quot;: &quot;fa-rotate-0&quot;, &quot;icon&quot;: &quot;info-sign&quot;, &quot;iconColor&quot;: &quot;white&quot;, &quot;markerColor&quot;: &quot;red&quot;, &quot;prefix&quot;: &quot;glyphicon&quot;}\n",
              "            );\n",
              "            marker_49e10e79a8a01e23cdb5be5778e23a37.setIcon(icon_db31188eed78f233ce614141959dbcdc);\n",
              "        \n",
              "    \n",
              "        var popup_c1d26d1ab4a767f115cc6a420569a357 = L.popup({&quot;maxWidth&quot;: &quot;100%&quot;});\n",
              "\n",
              "        \n",
              "            var html_d21f2ea53073a75b6c1f7890316f99e2 = $(`&lt;div id=&quot;html_d21f2ea53073a75b6c1f7890316f99e2&quot; style=&quot;width: 100.0%; height: 100.0%;&quot;&gt;&lt;/div&gt;`)[0];\n",
              "            popup_c1d26d1ab4a767f115cc6a420569a357.setContent(html_d21f2ea53073a75b6c1f7890316f99e2);\n",
              "        \n",
              "\n",
              "        marker_49e10e79a8a01e23cdb5be5778e23a37.bindPopup(popup_c1d26d1ab4a767f115cc6a420569a357)\n",
              "        ;\n",
              "\n",
              "        \n",
              "    \n",
              "&lt;/script&gt;\n",
              "&lt;/html&gt;\" style=\"position:absolute;width:100%;height:100%;left:0;top:0;border:none !important;\" allowfullscreen webkitallowfullscreen mozallowfullscreen></iframe></div></div>"
            ]
          },
          "metadata": {},
          "execution_count": 27
        }
      ],
      "source": [
        "map.add_child(folium.Marker(location=[lat1,long1],popup=\"\",icon=folium.Icon(color='red')))"
      ]
    }
  ],
  "metadata": {
    "colab": {
      "toc_visible": true,
      "provenance": []
    },
    "kernelspec": {
      "display_name": "Python 3",
      "name": "python3"
    },
    "language_info": {
      "name": "python"
    }
  },
  "nbformat": 4,
  "nbformat_minor": 0
}